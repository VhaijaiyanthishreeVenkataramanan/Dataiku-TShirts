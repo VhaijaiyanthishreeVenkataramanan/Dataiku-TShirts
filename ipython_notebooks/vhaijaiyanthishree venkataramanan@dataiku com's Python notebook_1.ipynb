{
  "metadata": {
    "kernelspec": {
      "name": "python3",
      "display_name": "Python 3",
      "language": "python"
    },
    "hide_input": false,
    "language_info": {
      "name": "python",
      "version": "3.6.8",
      "mimetype": "text/x-python",
      "codemirror_mode": {
        "name": "ipython",
        "version": 3
      },
      "pygments_lexer": "ipython3",
      "nbconvert_exporter": "python",
      "file_extension": ".py"
    },
    "creator": "vhaijaiyanthishree.venkataramanan@dataiku.com",
    "customFields": {},
    "createdOn": 1710873888273,
    "tags": [],
    "modifiedBy": "vhaijaiyanthishree.venkataramanan@dataiku.com"
  },
  "nbformat": 4,
  "nbformat_minor": 1,
  "cells": [
    {
      "execution_count": 0,
      "cell_type": "code",
      "metadata": {},
      "source": [
        "%pylab inline"
      ],
      "outputs": []
    },
    {
      "execution_count": 0,
      "cell_type": "code",
      "metadata": {},
      "source": [
        "import dataiku\nfrom dataiku import pandasutils as pdu\nimport pandas as pd"
      ],
      "outputs": []
    },
    {
      "execution_count": 0,
      "cell_type": "code",
      "metadata": {},
      "source": [
        "import subprocess\n\n# Define the command you want to execute\ncommand \u003d [\"kubectl\", \"config\", \"view\"]\n\n# Use subprocess.run to execute the command\n# capture_output\u003dTrue captures the command\u0027s standard output and standard error\nresult \u003d subprocess.run(command, capture_output\u003dTrue, text\u003dTrue)\n\n# Check if the command was executed successfully\nif result.returncode \u003d\u003d 0:\n    # If successful, print the standard output\n    print(\"Command output:\", result.stdout)\nelse:\n    # If there was an error, print the standard error\n    print(\"Error:\", result.stderr)"
      ],
      "outputs": []
    },
    {
      "execution_count": 0,
      "cell_type": "code",
      "metadata": {},
      "source": [
        ""
      ],
      "outputs": []
    }
  ]
}